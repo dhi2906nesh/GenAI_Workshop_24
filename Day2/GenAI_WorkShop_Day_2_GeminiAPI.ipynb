{
  "cells": [
    {
      "cell_type": "code",
      "execution_count": null,
      "metadata": {
        "id": "72lnHd221jV-"
      },
      "outputs": [],
      "source": [
        "import textwrap\n",
        "\n",
        "def print_w(data, width=180):\n",
        "    # Convert the set to a list of strings with each item enclosed in single quotes\n",
        "    items = ', '.join(f\"'{item}'\" for item in data)\n",
        "\n",
        "    # Add curly braces around the items\n",
        "    formatted_str = f\"{{{items}}}\"\n",
        "\n",
        "    # Wrap the formatted string to fit within the specified width\n",
        "    wrapper = textwrap.TextWrapper(width=width, expand_tabs=False, replace_whitespace=False)\n",
        "    wrapped_lines = wrapper.wrap(formatted_str)\n",
        "\n",
        "    # Print the wrapped text, ensuring that it preserves the original format\n",
        "    for line in wrapped_lines:\n",
        "        print(line)"
      ]
    },
    {
      "cell_type": "code",
      "execution_count": null,
      "metadata": {
        "colab": {
          "base_uri": "https://localhost:8080/"
        },
        "id": "egKw0LnlbqDx",
        "outputId": "b6e0ae74-e3a1-4cda-f4d9-77e49de70b80"
      },
      "outputs": [
        {
          "name": "stdout",
          "output_type": "stream",
          "text": [
            "\u001b[2K     \u001b[90m━━━━━━━━━━━━━━━━━━━━━━━━━━━━━━━━━━━━━━━━\u001b[0m \u001b[32m50.4/50.4 kB\u001b[0m \u001b[31m618.6 kB/s\u001b[0m eta \u001b[36m0:00:00\u001b[0m\n",
            "\u001b[2K   \u001b[90m━━━━━━━━━━━━━━━━━━━━━━━━━━━━━━━━━━━━━━━━\u001b[0m \u001b[32m399.9/399.9 kB\u001b[0m \u001b[31m9.3 MB/s\u001b[0m eta \u001b[36m0:00:00\u001b[0m\n",
            "\u001b[2K   \u001b[90m━━━━━━━━━━━━━━━━━━━━━━━━━━━━━━━━━━━━━━━━\u001b[0m \u001b[32m290.2/290.2 kB\u001b[0m \u001b[31m19.0 MB/s\u001b[0m eta \u001b[36m0:00:00\u001b[0m\n",
            "\u001b[2K   \u001b[90m━━━━━━━━━━━━━━━━━━━━━━━━━━━━━━━━━━━━━━━━\u001b[0m \u001b[32m76.4/76.4 kB\u001b[0m \u001b[31m4.1 MB/s\u001b[0m eta \u001b[36m0:00:00\u001b[0m\n",
            "\u001b[2K   \u001b[90m━━━━━━━━━━━━━━━━━━━━━━━━━━━━━━━━━━━━━━━━\u001b[0m \u001b[32m77.9/77.9 kB\u001b[0m \u001b[31m6.0 MB/s\u001b[0m eta \u001b[36m0:00:00\u001b[0m\n",
            "\u001b[2K   \u001b[90m━━━━━━━━━━━━━━━━━━━━━━━━━━━━━━━━━━━━━━━━\u001b[0m \u001b[32m141.9/141.9 kB\u001b[0m \u001b[31m6.5 MB/s\u001b[0m eta \u001b[36m0:00:00\u001b[0m\n",
            "\u001b[2K   \u001b[90m━━━━━━━━━━━━━━━━━━━━━━━━━━━━━━━━━━━━━━━━\u001b[0m \u001b[32m58.3/58.3 kB\u001b[0m \u001b[31m2.5 MB/s\u001b[0m eta \u001b[36m0:00:00\u001b[0m\n",
            "\u001b[?25h"
          ]
        }
      ],
      "source": [
        "!pip install -q --upgrade google-generativeai langchain-google-genai"
      ]
    },
    {
      "cell_type": "code",
      "execution_count": null,
      "metadata": {
        "id": "NxWplOWe0seE"
      },
      "outputs": [],
      "source": [
        "from langchain_google_genai import ChatGoogleGenerativeAI\n",
        "llm = ChatGoogleGenerativeAI(model = \"gemini-pro\", google_api_key = \"\")\n"
      ]
    },
    {
      "cell_type": "code",
      "execution_count": null,
      "metadata": {
        "colab": {
          "base_uri": "https://localhost:8080/"
        },
        "id": "wMT-nT_K1VV1",
        "outputId": "f94ea61e-3baf-4dec-d3f2-5f23ea9d95b7"
      },
      "outputs": [
        {
          "name": "stdout",
          "output_type": "stream",
          "text": [
            "{'('content', \"The sky appears blue due to a phenomenon called Rayleigh scattering.\\n\\nWhen sunlight enters Earth's atmosphere, it interacts with molecules and particles in the\n",
            "air. These molecules and particles are much smaller than the wavelength of visible light.\\n\\nAs sunlight passes through the atmosphere, the different wavelengths of light are\n",
            "scattered in all directions. However, blue light is scattered more strongly than other wavelengths because it has a shorter wavelength. This is because blue light interacts more\n",
            "strongly with the molecules and particles in the atmosphere.\\n\\nThe scattered blue light is what we see when we look up at the sky. The other wavelengths of light are scattered in\n",
            "all directions, but they are not as noticeable as the blue light.\")', '('additional_kwargs', {})', '('response_metadata', {'prompt_feedback': {'block_reason': 0, 'safety_ratings':\n",
            "[]}, 'finish_reason': 'STOP', 'safety_ratings': [{'category': 'HARM_CATEGORY_SEXUALLY_EXPLICIT', 'probability': 'NEGLIGIBLE', 'blocked': False}, {'category':\n",
            "'HARM_CATEGORY_HATE_SPEECH', 'probability': 'NEGLIGIBLE', 'blocked': False}, {'category': 'HARM_CATEGORY_HARASSMENT', 'probability': 'NEGLIGIBLE', 'blocked': False}, {'category':\n",
            "'HARM_CATEGORY_DANGEROUS_CONTENT', 'probability': 'NEGLIGIBLE', 'blocked': False}]})', '('type', 'ai')', '('name', None)', '('id', 'run-f9107f0b-4852-4df8-9f30-faebc2ed79dc-0')',\n",
            "'('example', False)', '('tool_calls', [])', '('invalid_tool_calls', [])', '('usage_metadata', {'input_tokens': 7, 'output_tokens': 138, 'total_tokens': 145})'}\n"
          ]
        }
      ],
      "source": [
        "result = llm.invoke(\"What is the sky blue ?\")\n",
        "print_w(result)"
      ]
    },
    {
      "cell_type": "code",
      "execution_count": null,
      "metadata": {
        "colab": {
          "base_uri": "https://localhost:8080/"
        },
        "id": "_hOuolt-3Z0K",
        "outputId": "ff489640-9009-4f4b-c0cc-8e7d7bc5702b"
      },
      "outputs": [
        {
          "data": {
            "text/plain": [
              "ChatSession(\n",
              "    model=genai.GenerativeModel(\n",
              "        model_name='models/gemini-1.5-flash',\n",
              "        generation_config={},\n",
              "        safety_settings={},\n",
              "        tools=None,\n",
              "        system_instruction=None,\n",
              "        cached_content=None\n",
              "    ),\n",
              "    history=[]\n",
              ")"
            ]
          },
          "execution_count": 5,
          "metadata": {},
          "output_type": "execute_result"
        }
      ],
      "source": [
        "import google.generativeai as genai\n",
        "model = genai.GenerativeModel(\"gemini-1.5-flash\")\n",
        "chat = model.start_chat(history = [])\n",
        "chat"
      ]
    },
    {
      "cell_type": "code",
      "execution_count": null,
      "metadata": {
        "colab": {
          "base_uri": "https://localhost:8080/",
          "height": 800
        },
        "id": "MOt7BGjh4X1x",
        "outputId": "049d2a27-9281-48b6-9897-bf6e5fa98307"
      },
      "outputs": [
        {
          "name": "stdout",
          "output_type": "stream",
          "text": [
            "response:\n",
            "GenerateContentResponse(\n",
            "    done=True,\n",
            "    iterator=None,\n",
            "    result=protos.GenerateContentResponse({\n",
            "      \"candidates\": [\n",
            "        {\n",
            "          \"content\": {\n",
            "            \"parts\": [\n",
            "              {\n",
            "                \"text\": \"A poet's mind, especially when tinged with sadness, is a fascinating and often unpredictable landscape. Here's how the dusk might influence their creative process:\\n\\n**The Dusk Setting:**\\n\\n* **A Palette of Melancholy:** Dusk is inherently a melancholic time. The fading light, lengthening shadows, and the stillness of twilight evoke a sense of introspection and longing. This mood resonates deeply with a poet's own sadness, amplifying it and making it a natural subject for their verse.\\n* **Visual Inspiration:** The shifting colors of dusk \\u2013 warm oranges, cool blues, and the ever-present gray \\u2013 provide a rich visual backdrop for the poet's words. They can use these colors to paint vivid imagery, mirroring the complex emotions within.\\n* **A Time of Silence:** The quietude of dusk allows for inward reflection. The world around seems to hold its breath, mirroring the poet's own inner turmoil. This silence grants them the space to listen to their own thoughts and emotions, crystallizing them into poetry.\\n\\n**The Poet's Process:**\\n\\n* **Emotional Catharsis:** Writing poetry can be a form of emotional release. Putting their sadness into words allows the poet to process their feelings and perhaps even find a measure of peace. The act of creation itself becomes a form of healing.\\n* **Metaphor and Symbolism:** The poet might use the imagery of dusk to represent the fading of hope, the decline of day, or the coming of night \\u2013 all metaphors for their own sadness. The changing light, the fading colors, and the quiet stillness can all become symbols for the poet's emotional state.\\n* **Exploration of Themes:** Dusk often prompts contemplation on themes of loss, transience, and the inevitability of time passing.  A poet grappling with sadness might explore these themes through their work, finding solace in the recognition that they are not alone in their emotions.\\n\\n**The Result:**\\n\\nThe poet's work in the dusk might be infused with:\\n\\n* **A sense of longing and melancholic beauty:**  The poem might convey a sense of yearning for something lost or unattainable, or a quiet acceptance of the sadness they are feeling.\\n* **Vivid imagery:** The poet might use specific details to paint a picture of the dusk setting, effectively capturing the atmosphere and relating it to their own inner landscape.\\n* **Reflection on the ephemeral nature of life:** The poem might touch upon themes of mortality, the passage of time, and the fleeting beauty of life, mirroring the fleeting beauty of dusk itself.\\n\\nUltimately, the poet\\u2019s sadness, combined with the evocative atmosphere of dusk, becomes a catalyst for powerful and emotionally resonant poetry. The poet, through their words, seeks to understand and perhaps even reconcile with their own sadness, finding beauty and truth in the very act of expressing it. \\n\"\n",
            "              }\n",
            "            ],\n",
            "            \"role\": \"model\"\n",
            "          },\n",
            "          \"finish_reason\": \"STOP\",\n",
            "          \"index\": 0,\n",
            "          \"safety_ratings\": [\n",
            "            {\n",
            "              \"category\": \"HARM_CATEGORY_SEXUALLY_EXPLICIT\",\n",
            "              \"probability\": \"NEGLIGIBLE\"\n",
            "            },\n",
            "            {\n",
            "              \"category\": \"HARM_CATEGORY_HATE_SPEECH\",\n",
            "              \"probability\": \"NEGLIGIBLE\"\n",
            "            },\n",
            "            {\n",
            "              \"category\": \"HARM_CATEGORY_HARASSMENT\",\n",
            "              \"probability\": \"NEGLIGIBLE\"\n",
            "            },\n",
            "            {\n",
            "              \"category\": \"HARM_CATEGORY_DANGEROUS_CONTENT\",\n",
            "              \"probability\": \"NEGLIGIBLE\"\n",
            "            }\n",
            "          ]\n",
            "        }\n",
            "      ],\n",
            "      \"usage_metadata\": {\n",
            "        \"prompt_token_count\": 15,\n",
            "        \"candidates_token_count\": 579,\n",
            "        \"total_token_count\": 594\n",
            "      }\n",
            "    }),\n",
            ")\n"
          ]
        }
      ],
      "source": [
        "genai.configure(api_key = '')\n",
        "response = chat.send_message(\n",
        "    \"Explain how a poet writes a piece in the dusk when he is sad\"\n",
        ")\n",
        "\n",
        "print(response)"
      ]
    },
    {
      "cell_type": "code",
      "execution_count": null,
      "metadata": {
        "colab": {
          "base_uri": "https://localhost:8080/"
        },
        "id": "Z0fkFfee6m5n",
        "outputId": "32404e5c-a9e3-4431-89b4-020ccab4a350"
      },
      "outputs": [
        {
          "name": "stdout",
          "output_type": "stream",
          "text": [
            "A poet's mind, especially when tinged with sadness, is a fascinating and often unpredictable landscape. Here's how the dusk might influence their creative process:\n",
            "\n",
            "**The Dusk Setting:**\n",
            "\n",
            "* **A Palette of Melancholy:** Dusk is inherently a melancholic time. The fading light, lengthening shadows, and the stillness of twilight evoke a sense of introspection and longing. This mood resonates deeply with a poet's own sadness, amplifying it and making it a natural subject for their verse.\n",
            "* **Visual Inspiration:** The shifting colors of dusk – warm oranges, cool blues, and the ever-present gray – provide a rich visual backdrop for the poet's words. They can use these colors to paint vivid imagery, mirroring the complex emotions within.\n",
            "* **A Time of Silence:** The quietude of dusk allows for inward reflection. The world around seems to hold its breath, mirroring the poet's own inner turmoil. This silence grants them the space to listen to their own thoughts and emotions, crystallizing them into poetry.\n",
            "\n",
            "**The Poet's Process:**\n",
            "\n",
            "* **Emotional Catharsis:** Writing poetry can be a form of emotional release. Putting their sadness into words allows the poet to process their feelings and perhaps even find a measure of peace. The act of creation itself becomes a form of healing.\n",
            "* **Metaphor and Symbolism:** The poet might use the imagery of dusk to represent the fading of hope, the decline of day, or the coming of night – all metaphors for their own sadness. The changing light, the fading colors, and the quiet stillness can all become symbols for the poet's emotional state.\n",
            "* **Exploration of Themes:** Dusk often prompts contemplation on themes of loss, transience, and the inevitability of time passing.  A poet grappling with sadness might explore these themes through their work, finding solace in the recognition that they are not alone in their emotions.\n",
            "\n",
            "**The Result:**\n",
            "\n",
            "The poet's work in the dusk might be infused with:\n",
            "\n",
            "* **A sense of longing and melancholic beauty:**  The poem might convey a sense of yearning for something lost or unattainable, or a quiet acceptance of the sadness they are feeling.\n",
            "* **Vivid imagery:** The poet might use specific details to paint a picture of the dusk setting, effectively capturing the atmosphere and relating it to their own inner landscape.\n",
            "* **Reflection on the ephemeral nature of life:** The poem might touch upon themes of mortality, the passage of time, and the fleeting beauty of life, mirroring the fleeting beauty of dusk itself.\n",
            "\n",
            "Ultimately, the poet’s sadness, combined with the evocative atmosphere of dusk, becomes a catalyst for powerful and emotionally resonant poetry. The poet, through their words, seeks to understand and perhaps even reconcile with their own sadness, finding beauty and truth in the very act of expressing it. \n",
            "\n"
          ]
        }
      ],
      "source": [
        "print(response.text)"
      ]
    },
    {
      "cell_type": "code",
      "execution_count": null,
      "metadata": {
        "colab": {
          "base_uri": "https://localhost:8080/",
          "height": 505
        },
        "id": "P54X5tTc7ze-",
        "outputId": "e399aaf1-dc23-4d93-e9da-780272d55b45"
      },
      "outputs": [
        {
          "name": "stdout",
          "output_type": "stream",
          "text": [
            "Enter your prompt: Hey how are you.\n",
            "I'm doing well, thank you for asking! As a large language model, I don't have feelings or experiences like humans do, but I'm always here and ready to help with any questions or tasks you might have. \n",
            "\n",
            "How are you doing today? \n",
            "\n",
            "Enter your prompt: Good, can you tell about something interesting\n",
            "Okay, here's something interesting:\n",
            "\n",
            "**Did you know there's a species of jellyfish that can essentially live forever?**\n",
            "\n",
            "It's called the **Turritopsis dohrnii**, and it's been dubbed \"the immortal jellyfish\".  Here's the fascinating part: when it's stressed (like when injured or running out of food), it can revert back to its polyp stage, a juvenile form.  Think of it like going back to childhood! From there, it can grow into a new adult jellyfish again.  This process can repeat indefinitely, making it potentially biologically immortal. \n",
            "\n",
            "Pretty amazing, right?  \n",
            "\n",
            "What other topics are you curious about? 😊 \n",
            "\n",
            "Enter your prompt: novels\n",
            "Ah, novels! Such a vast and wonderful world.  What specifically about novels are you interested in?  I can tell you about:\n",
            "\n",
            "* **Popular Novels:**  Maybe you're looking for recommendations, like the latest bestsellers or critically acclaimed books. \n",
            "* **Genre Novels:**  Do you have a favorite genre like fantasy, sci-fi, romance, mystery, historical fiction?  There's a whole universe of stories within each genre. \n",
            "* **The Writing Process:**  Are you curious about how authors craft their stories?  I can talk about plot, character development, world-building, and more. \n",
            "* **Classic Novels:**  Do you want to explore some of the timeless masterpieces of literature?  I can share insights into their themes, characters, and historical context.\n",
            "\n",
            "Tell me more about what interests you, and I'll do my best to create a conversation that's engaging for you! 😊 \n",
            "\n",
            "Enter your prompt: exit\n"
          ]
        }
      ],
      "source": [
        "while(1):\n",
        "  text = input(\"Enter your prompt: \")\n",
        "  if text == \"exit\":\n",
        "    break\n",
        "  response = chat.send_message(\n",
        "      text\n",
        "  )\n",
        "\n",
        "  #print(response)\n",
        "\n",
        "  print(response.text)"
      ]
    },
    {
      "cell_type": "code",
      "execution_count": null,
      "metadata": {
        "colab": {
          "base_uri": "https://localhost:8080/"
        },
        "id": "iwNTI0Z88isl",
        "outputId": "cb013e78-d0de-429d-edea-2d39a4aa97c3"
      },
      "outputs": [
        {
          "name": "stdout",
          "output_type": "stream",
          "text": [
            "  % Total    % Received % Xferd  Average Speed   Time    Time     Time  Current\n",
            "                                 Dload  Upload   Total   Spent    Left  Speed\n",
            "100 32952  100 32952    0     0   146k      0 --:--:-- --:--:-- --:--:--  146k\n"
          ]
        }
      ],
      "source": [
        "!curl -o image.png https://imgs.search.brave.com/bRWGkK7alLqWz3_hP1oSs89vlgV6vtk2THXl_BXuFto/rs:fit:500:0:0:0/g:ce/aHR0cHM6Ly9pLnBp/bmltZy5jb20vb3Jp/Z2luYWxzL2RmL2Y1/LzE3L2RmZjUxNzg0/NmY4NTllN2NiNjM4/ZWMyOWQ2OTBhMWE2/LmpwZw"
      ]
    },
    {
      "cell_type": "code",
      "execution_count": null,
      "metadata": {
        "colab": {
          "base_uri": "https://localhost:8080/",
          "height": 512
        },
        "id": "4UbMbH9M95gP",
        "outputId": "2c7f15a6-74b0-4890-801f-14891f92d1ff"
      },
      "outputs": [
        {
          "ename": "",
          "evalue": "",
          "output_type": "error",
          "traceback": [
            "\u001b[1;31mRunning cells with 'Python 3.11.7' requires the ipykernel package.\n",
            "\u001b[1;31mRun the following command to install 'ipykernel' into the Python environment. \n",
            "\u001b[1;31mCommand: 'c:/msys64/ucrt64/bin/python3.11.exe -m pip install ipykernel -U --user --force-reinstall'"
          ]
        }
      ],
      "source": [
        "import PIL.Image\n",
        "img = PIL.Image.open(\"/content/image.png\")\n",
        "img"
      ]
    },
    {
      "cell_type": "code",
      "execution_count": null,
      "metadata": {
        "colab": {
          "base_uri": "https://localhost:8080/",
          "height": 72
        },
        "id": "VwZKzA73-xSW",
        "outputId": "eeec483f-5bc4-4eec-a224-9b6a85b34b31"
      },
      "outputs": [
        {
          "name": "stdout",
          "output_type": "stream",
          "text": [
            "This is a book cover for a fantasy novel called \"The Beginning After The End.\" The cover features a sword sticking out of the ground, with the title of the book written in a stylized font above it. There is a floating island in the background, as well as a young woman in a long, dark coat standing in a field. The bottom of the image says \"Early Years: Volume One.\"  The overall tone of the image is mysterious and exciting, suggesting that the book will be a thrilling adventure. \n",
            "\n"
          ]
        }
      ],
      "source": [
        "response = model.generate_content(img)\n",
        "print(response.text)"
      ]
    },
    {
      "cell_type": "code",
      "execution_count": null,
      "metadata": {
        "id": "a-_n7dtw_-h5"
      },
      "outputs": [],
      "source": [
        "response = model.generate_content(\n",
        "    [\n",
        "        \"Write a short, engaging blog post based on this picture. It should include a description of the novel in the photo and talk about the main chareacter.\",\n",
        "        img,\n",
        "    ],\n",
        "    stream=True,\n",
        ")\n",
        "response.resolve()"
      ]
    },
    {
      "cell_type": "code",
      "execution_count": null,
      "metadata": {
        "colab": {
          "base_uri": "https://localhost:8080/"
        },
        "id": "8J8QjiRxAR8l",
        "outputId": "fad2e933-39f7-4c59-d3e6-53260321936d"
      },
      "outputs": [
        {
          "name": "stdout",
          "output_type": "stream",
          "text": [
            "## The Beginning After The End: Early Years - A Journey of Discovery\n",
            "\n",
            "The cover of \"The Beginning After The End: Early Years, Volume One\" by 'TurtleMe' is a captivating glimpse into a world of magic, adventure, and a young hero's journey. Set against a backdrop of vibrant, swirling clouds and a floating island city, the image evokes a sense of wonder and mystery. \n",
            "\n",
            "At the heart of the cover stands our protagonist, a young girl named \"Early\" (though the novel uses a different name). She's depicted as a curious and determined figure, her silhouette casting a sense of resilience and courage. Armed with a sword, she appears ready to face whatever challenges await her.\n",
            "\n",
            "The title, \"The Beginning After The End,\" hints at a world that has known both destruction and rebirth. The image suggests a sense of hope, with the city in the sky representing the potential for a brighter future.  It leaves readers eager to discover the story behind the captivating visuals and delve into the journey of Early, a young heroine who may hold the key to a new era. \n",
            "\n"
          ]
        }
      ],
      "source": [
        "print(response.text)"
      ]
    }
  ],
  "metadata": {
    "accelerator": "GPU",
    "colab": {
      "gpuType": "T4",
      "provenance": []
    },
    "kernelspec": {
      "display_name": "Python 3",
      "name": "python3"
    },
    "language_info": {
      "name": "python",
      "version": "3.11.7"
    }
  },
  "nbformat": 4,
  "nbformat_minor": 0
}
